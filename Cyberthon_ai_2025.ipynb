{
  "nbformat": 4,
  "nbformat_minor": 0,
  "metadata": {
    "colab": {
      "provenance": []
    },
    "kernelspec": {
      "name": "python3",
      "display_name": "Python 3"
    },
    "language_info": {
      "name": "python"
    }
  },
  "cells": [
    {
      "cell_type": "code",
      "execution_count": 15,
      "metadata": {
        "colab": {
          "base_uri": "https://localhost:8080/"
        },
        "id": "n_GRmeV1-C44",
        "outputId": "ef7f71c8-9ec7-4cfa-9e09-3fb02333157f"
      },
      "outputs": [
        {
          "output_type": "stream",
          "name": "stdout",
          "text": [
            "Requirement already satisfied: pandas in /usr/local/lib/python3.11/dist-packages (2.2.2)\n",
            "Requirement already satisfied: numpy in /usr/local/lib/python3.11/dist-packages (2.0.2)\n",
            "Requirement already satisfied: faker in /usr/local/lib/python3.11/dist-packages (37.3.0)\n",
            "Requirement already satisfied: python-dateutil>=2.8.2 in /usr/local/lib/python3.11/dist-packages (from pandas) (2.9.0.post0)\n",
            "Requirement already satisfied: pytz>=2020.1 in /usr/local/lib/python3.11/dist-packages (from pandas) (2025.2)\n",
            "Requirement already satisfied: tzdata>=2022.7 in /usr/local/lib/python3.11/dist-packages (from pandas) (2025.2)\n",
            "Requirement already satisfied: six>=1.5 in /usr/local/lib/python3.11/dist-packages (from python-dateutil>=2.8.2->pandas) (1.17.0)\n"
          ]
        }
      ],
      "source": [
        "pip install pandas numpy faker\n"
      ]
    },
    {
      "cell_type": "code",
      "source": [
        "pip install joblib"
      ],
      "metadata": {
        "colab": {
          "base_uri": "https://localhost:8080/"
        },
        "id": "nvLgtmpI4DuB",
        "outputId": "423b18f3-3f46-475d-d4b7-361f1a1070c2"
      },
      "execution_count": 16,
      "outputs": [
        {
          "output_type": "stream",
          "name": "stdout",
          "text": [
            "Requirement already satisfied: joblib in /usr/local/lib/python3.11/dist-packages (1.5.0)\n"
          ]
        }
      ]
    },
    {
      "cell_type": "code",
      "source": [
        "import pandas as pd\n",
        "import numpy as np\n",
        "from faker import Faker\n",
        "from random import randint, choice, uniform\n",
        "import datetime\n",
        "\n",
        "fake = Faker()\n",
        "np.random.seed(42)\n",
        "\n",
        "def simulate_upi_transactions(n=10000, fraud_ratio=0.05):\n",
        "    upi_data = []\n",
        "    for i in range(n):\n",
        "        is_fraud = np.random.rand() < fraud_ratio\n",
        "        sender = fake.uuid4()\n",
        "        receiver = fake.uuid4()\n",
        "        amount = round(uniform(10, 10000), 2) if not is_fraud else round(uniform(5000, 100000), 2)\n",
        "        txn_type = choice(['P2P', 'P2M', 'QR', 'BillPay'])\n",
        "        txn_status = choice(['SUCCESS', 'FAILED', 'PENDING']) if not is_fraud else choice(['FAILED', 'SUCCESS'])\n",
        "        device_id = fake.uuid4()\n",
        "        ip = fake.ipv4_public()\n",
        "        location = fake.city()\n",
        "        txn_time = fake.date_time_this_year()\n",
        "        merchant_code = fake.bothify(text='M####')\n",
        "        fraud_flag = 1 if is_fraud else 0\n",
        "\n",
        "        upi_data.append([\n",
        "            txn_time, sender, receiver, amount, txn_type, txn_status,\n",
        "            device_id, ip, location, merchant_code, fraud_flag\n",
        "        ])\n",
        "\n",
        "    columns = [\n",
        "        'timestamp', 'sender_id', 'receiver_id', 'amount', 'txn_type', 'txn_status',\n",
        "        'device_id', 'ip_address', 'location', 'merchant_code', 'is_fraud'\n",
        "    ]\n",
        "    return pd.DataFrame(upi_data, columns=columns)\n",
        "\n",
        "def simulate_voip_calls(n=5000, fraud_ratio=0.1):\n",
        "    voip_data = []\n",
        "    known_spam_numbers = [fake.phone_number() for _ in range(20)]\n",
        "\n",
        "    for i in range(n):\n",
        "        is_fraud = np.random.rand() < fraud_ratio\n",
        "        caller = fake.phone_number() if not is_fraud else choice(known_spam_numbers)\n",
        "        receiver = fake.phone_number()\n",
        "        duration = randint(1, 600) if not is_fraud else randint(1, 10)  # very short duration for fraud\n",
        "        call_time = fake.date_time_this_year()\n",
        "        voip_provider = choice(['JioCall', 'WhatsApp', 'Skype', 'Zoom', 'GoogleVoice'])\n",
        "        geo_info = fake.city()\n",
        "        spoof_flag = 1 if is_fraud and np.random.rand() < 0.5 else 0\n",
        "        fraud_flag = 1 if is_fraud else 0\n",
        "\n",
        "        voip_data.append([\n",
        "            call_time, caller, receiver, duration, voip_provider, geo_info, spoof_flag, fraud_flag\n",
        "        ])\n",
        "\n",
        "    columns = [\n",
        "        'call_time', 'caller_number', 'receiver_number', 'call_duration',\n",
        "        'voip_provider', 'geo_info', 'spoof_flag', 'is_fraud'\n",
        "    ]\n",
        "    return pd.DataFrame(voip_data, columns=columns)\n",
        "\n",
        "# Generate datasets\n",
        "upi_df = simulate_upi_transactions(n=10000, fraud_ratio=0.05)\n",
        "voip_df = simulate_voip_calls(n=5000, fraud_ratio=0.1)\n",
        "\n",
        "# Save to CSV\n",
        "upi_df.to_csv(\"simulated_upi_transactions.csv\", index=False)\n",
        "voip_df.to_csv(\"simulated_voip_calls.csv\", index=False)\n",
        "\n",
        "print(\"✅ Synthetic datasets generated and saved!\")\n"
      ],
      "metadata": {
        "colab": {
          "base_uri": "https://localhost:8080/"
        },
        "id": "oZPgRQBu-PYm",
        "outputId": "ccc2a647-fa06-4fbc-a099-f6db2c6915df"
      },
      "execution_count": 17,
      "outputs": [
        {
          "output_type": "stream",
          "name": "stdout",
          "text": [
            "✅ Synthetic datasets generated and saved!\n"
          ]
        }
      ]
    },
    {
      "cell_type": "code",
      "source": [
        "import pandas as pd\n",
        "import numpy as np\n",
        "from sklearn.model_selection import train_test_split\n",
        "from sklearn.preprocessing import LabelEncoder\n",
        "from lightgbm import LGBMClassifier\n",
        "from sklearn.metrics import classification_report, confusion_matrix, roc_auc_score\n",
        "\n",
        "# Step 1: Load UPI dataset\n",
        "df = pd.read_csv(\"simulated_upi_transactions.csv\")\n",
        "\n",
        "# Step 2: Basic preprocessing\n",
        "categorical_cols = ['txn_type', 'txn_status', 'location', 'merchant_code']\n",
        "df[categorical_cols] = df[categorical_cols].astype(str)\n",
        "\n",
        "#Step 3: Encode categorical UPI columns\n",
        "upi_encoders = {}\n",
        "for col in ['txn_type', 'txn_status', 'location', 'merchant_code']:\n",
        "    le = LabelEncoder()\n",
        "    df[col] = le.fit_transform(df[col])\n",
        "    upi_encoders[col] = le\n",
        "\n",
        "\n",
        "# Step 4: Feature selection\n",
        "features = ['amount', 'txn_type', 'txn_status', 'location', 'merchant_code']\n",
        "X = df[features]\n",
        "y = df['is_fraud']\n",
        "\n",
        "# Step 5: Train-test split\n",
        "X_train, X_test, y_train, y_test = train_test_split(X, y, stratify=y, test_size=0.25, random_state=42)\n",
        "\n",
        "# Step 6: Train LightGBM model\n",
        "upi_model = LGBMClassifier(n_estimators=100, learning_rate=0.1, random_state=42)\n",
        "upi_model.fit(X_train, y_train)\n",
        "\n",
        "# Step 7: Evaluation\n",
        "y_pred = upi_model.predict(X_test)\n",
        "y_proba = upi_model.predict_proba(X_test)[:, 1]\n",
        "\n",
        "print(\"Confusion Matrix:\\n\", confusion_matrix(y_test, y_pred))\n",
        "print(\"\\nClassification Report:\\n\", classification_report(y_test, y_pred))\n",
        "print(\"\\nROC AUC Score:\", roc_auc_score(y_test, y_proba))\n"
      ],
      "metadata": {
        "colab": {
          "base_uri": "https://localhost:8080/"
        },
        "id": "ehkJRSCK-Xwx",
        "outputId": "4c847e6a-d96b-40a4-cd63-31b1d38da1b4"
      },
      "execution_count": 18,
      "outputs": [
        {
          "output_type": "stream",
          "name": "stdout",
          "text": [
            "[LightGBM] [Info] Number of positive: 370, number of negative: 7130\n",
            "[LightGBM] [Info] Auto-choosing row-wise multi-threading, the overhead of testing was 0.000260 seconds.\n",
            "You can set `force_row_wise=true` to remove the overhead.\n",
            "And if memory is not enough, you can set `force_col_wise=true`.\n",
            "[LightGBM] [Info] Total Bins 772\n",
            "[LightGBM] [Info] Number of data points in the train set: 7500, number of used features: 5\n",
            "[LightGBM] [Info] [binary:BoostFromScore]: pavg=0.049333 -> initscore=-2.958564\n",
            "[LightGBM] [Info] Start training from score -2.958564\n",
            "Confusion Matrix:\n",
            " [[2377    0]\n",
            " [   8  115]]\n",
            "\n",
            "Classification Report:\n",
            "               precision    recall  f1-score   support\n",
            "\n",
            "           0       1.00      1.00      1.00      2377\n",
            "           1       1.00      0.93      0.97       123\n",
            "\n",
            "    accuracy                           1.00      2500\n",
            "   macro avg       1.00      0.97      0.98      2500\n",
            "weighted avg       1.00      1.00      1.00      2500\n",
            "\n",
            "\n",
            "ROC AUC Score: 0.985190049628725\n"
          ]
        }
      ]
    },
    {
      "cell_type": "code",
      "source": [
        "# Save UPI model and encoders\n",
        "import joblib\n",
        "joblib.dump(upi_model, \"upi_model.pkl\")\n",
        "joblib.dump(upi_encoders, \"upi_label_encoders.pkl\")"
      ],
      "metadata": {
        "colab": {
          "base_uri": "https://localhost:8080/"
        },
        "id": "bDShHrJq1T7i",
        "outputId": "79f138eb-832d-4416-95e4-4dfc3ff8e1e1"
      },
      "execution_count": 20,
      "outputs": [
        {
          "output_type": "execute_result",
          "data": {
            "text/plain": [
              "['upi_label_encoders.pkl']"
            ]
          },
          "metadata": {},
          "execution_count": 20
        }
      ]
    },
    {
      "cell_type": "code",
      "source": [
        "import pandas as pd\n",
        "from sklearn.model_selection import train_test_split\n",
        "from sklearn.preprocessing import LabelEncoder\n",
        "from lightgbm import LGBMClassifier\n",
        "from sklearn.metrics import classification_report, confusion_matrix, roc_auc_score\n",
        "\n",
        "# Step 1: Load data\n",
        "df = pd.read_csv(\"simulated_voip_calls.csv\")\n",
        "\n",
        "\n",
        "#Step 2: Encode categorical UPI columns\n",
        "voip_encoders = {}\n",
        "for col in ['voip_provider', 'geo_info']:\n",
        "    le = LabelEncoder()\n",
        "    df[col] = le.fit_transform(df[col])\n",
        "    voip_encoders[col] = le\n",
        "\n",
        "# Step 3: Define features and label\n",
        "features = ['call_duration', 'voip_provider', 'geo_info', 'spoof_flag']\n",
        "X = df[features]\n",
        "y = df['is_fraud']\n",
        "\n",
        "# Step 4: Split the data\n",
        "X_train, X_test, y_train, y_test = train_test_split(X, y, stratify=y, test_size=0.25, random_state=42)\n",
        "\n",
        "# Step 5: Train the model\n",
        "voip_model = LGBMClassifier(n_estimators=100, learning_rate=0.1, random_state=42)\n",
        "voip_model.fit(X_train, y_train)\n",
        "\n",
        "# Step 6: Evaluate\n",
        "y_pred = voip_model.predict(X_test)\n",
        "y_proba = voip_model.predict_proba(X_test)[:, 1]\n",
        "\n",
        "print(\"Confusion Matrix:\\n\", confusion_matrix(y_test, y_pred))\n",
        "print(\"\\nClassification Report:\\n\", classification_report(y_test, y_pred))\n",
        "print(\"\\nROC AUC Score:\", roc_auc_score(y_test, y_proba))\n"
      ],
      "metadata": {
        "colab": {
          "base_uri": "https://localhost:8080/"
        },
        "id": "aZEAdJ5MIhEQ",
        "outputId": "a279363d-f22c-46c2-afaa-f67def19fc76"
      },
      "execution_count": 21,
      "outputs": [
        {
          "output_type": "stream",
          "name": "stdout",
          "text": [
            "[LightGBM] [Info] Number of positive: 376, number of negative: 3374\n",
            "[LightGBM] [Info] Auto-choosing col-wise multi-threading, the overhead of testing was 0.000478 seconds.\n",
            "You can set `force_col_wise=true` to remove the overhead.\n",
            "[LightGBM] [Info] Total Bins 514\n",
            "[LightGBM] [Info] Number of data points in the train set: 3750, number of used features: 4\n",
            "[LightGBM] [Info] [binary:BoostFromScore]: pavg=0.100267 -> initscore=-2.194265\n",
            "[LightGBM] [Info] Start training from score -2.194265\n",
            "[LightGBM] [Warning] No further splits with positive gain, best gain: -inf\n",
            "[LightGBM] [Warning] No further splits with positive gain, best gain: -inf\n",
            "[LightGBM] [Warning] No further splits with positive gain, best gain: -inf\n",
            "[LightGBM] [Warning] No further splits with positive gain, best gain: -inf\n",
            "[LightGBM] [Warning] No further splits with positive gain, best gain: -inf\n",
            "[LightGBM] [Warning] No further splits with positive gain, best gain: -inf\n",
            "[LightGBM] [Warning] No further splits with positive gain, best gain: -inf\n",
            "[LightGBM] [Warning] No further splits with positive gain, best gain: -inf\n",
            "[LightGBM] [Warning] No further splits with positive gain, best gain: -inf\n",
            "[LightGBM] [Warning] No further splits with positive gain, best gain: -inf\n",
            "[LightGBM] [Warning] No further splits with positive gain, best gain: -inf\n",
            "[LightGBM] [Warning] No further splits with positive gain, best gain: -inf\n",
            "[LightGBM] [Warning] No further splits with positive gain, best gain: -inf\n",
            "[LightGBM] [Warning] No further splits with positive gain, best gain: -inf\n",
            "[LightGBM] [Warning] No further splits with positive gain, best gain: -inf\n",
            "[LightGBM] [Warning] No further splits with positive gain, best gain: -inf\n",
            "[LightGBM] [Warning] No further splits with positive gain, best gain: -inf\n",
            "[LightGBM] [Warning] No further splits with positive gain, best gain: -inf\n",
            "[LightGBM] [Warning] No further splits with positive gain, best gain: -inf\n",
            "[LightGBM] [Warning] No further splits with positive gain, best gain: -inf\n",
            "[LightGBM] [Warning] No further splits with positive gain, best gain: -inf\n",
            "[LightGBM] [Warning] No further splits with positive gain, best gain: -inf\n",
            "[LightGBM] [Warning] No further splits with positive gain, best gain: -inf\n",
            "[LightGBM] [Warning] No further splits with positive gain, best gain: -inf\n",
            "[LightGBM] [Warning] No further splits with positive gain, best gain: -inf\n",
            "[LightGBM] [Warning] No further splits with positive gain, best gain: -inf\n",
            "[LightGBM] [Warning] No further splits with positive gain, best gain: -inf\n",
            "[LightGBM] [Warning] No further splits with positive gain, best gain: -inf\n",
            "[LightGBM] [Warning] No further splits with positive gain, best gain: -inf\n",
            "[LightGBM] [Warning] No further splits with positive gain, best gain: -inf\n",
            "[LightGBM] [Warning] No further splits with positive gain, best gain: -inf\n",
            "[LightGBM] [Warning] No further splits with positive gain, best gain: -inf\n",
            "[LightGBM] [Warning] No further splits with positive gain, best gain: -inf\n",
            "[LightGBM] [Warning] No further splits with positive gain, best gain: -inf\n",
            "[LightGBM] [Warning] No further splits with positive gain, best gain: -inf\n",
            "[LightGBM] [Warning] No further splits with positive gain, best gain: -inf\n",
            "[LightGBM] [Warning] No further splits with positive gain, best gain: -inf\n",
            "[LightGBM] [Warning] No further splits with positive gain, best gain: -inf\n",
            "[LightGBM] [Warning] No further splits with positive gain, best gain: -inf\n",
            "[LightGBM] [Warning] No further splits with positive gain, best gain: -inf\n",
            "[LightGBM] [Warning] No further splits with positive gain, best gain: -inf\n",
            "[LightGBM] [Warning] No further splits with positive gain, best gain: -inf\n",
            "[LightGBM] [Warning] No further splits with positive gain, best gain: -inf\n",
            "[LightGBM] [Warning] No further splits with positive gain, best gain: -inf\n",
            "[LightGBM] [Warning] No further splits with positive gain, best gain: -inf\n",
            "[LightGBM] [Warning] No further splits with positive gain, best gain: -inf\n",
            "[LightGBM] [Warning] No further splits with positive gain, best gain: -inf\n",
            "[LightGBM] [Warning] No further splits with positive gain, best gain: -inf\n",
            "[LightGBM] [Warning] No further splits with positive gain, best gain: -inf\n",
            "[LightGBM] [Warning] No further splits with positive gain, best gain: -inf\n",
            "[LightGBM] [Warning] No further splits with positive gain, best gain: -inf\n",
            "[LightGBM] [Warning] No further splits with positive gain, best gain: -inf\n",
            "[LightGBM] [Warning] No further splits with positive gain, best gain: -inf\n",
            "[LightGBM] [Warning] No further splits with positive gain, best gain: -inf\n",
            "[LightGBM] [Warning] No further splits with positive gain, best gain: -inf\n",
            "[LightGBM] [Warning] No further splits with positive gain, best gain: -inf\n",
            "[LightGBM] [Warning] No further splits with positive gain, best gain: -inf\n",
            "[LightGBM] [Warning] No further splits with positive gain, best gain: -inf\n",
            "[LightGBM] [Warning] No further splits with positive gain, best gain: -inf\n",
            "[LightGBM] [Warning] No further splits with positive gain, best gain: -inf\n",
            "[LightGBM] [Warning] No further splits with positive gain, best gain: -inf\n",
            "Confusion Matrix:\n",
            " [[1096   29]\n",
            " [   8  117]]\n",
            "\n",
            "Classification Report:\n",
            "               precision    recall  f1-score   support\n",
            "\n",
            "           0       0.99      0.97      0.98      1125\n",
            "           1       0.80      0.94      0.86       125\n",
            "\n",
            "    accuracy                           0.97      1250\n",
            "   macro avg       0.90      0.96      0.92      1250\n",
            "weighted avg       0.97      0.97      0.97      1250\n",
            "\n",
            "\n",
            "ROC AUC Score: 0.9927360000000001\n"
          ]
        }
      ]
    },
    {
      "cell_type": "code",
      "source": [
        "# Save VoIP model and encoders\n",
        "joblib.dump(voip_model, \"voip_model.pkl\")\n",
        "joblib.dump(voip_encoders, \"voip_label_encoders.pkl\")"
      ],
      "metadata": {
        "colab": {
          "base_uri": "https://localhost:8080/"
        },
        "id": "G7maezZC1u8V",
        "outputId": "11191066-5861-440e-f3eb-5ad7da1cd5c4"
      },
      "execution_count": 22,
      "outputs": [
        {
          "output_type": "execute_result",
          "data": {
            "text/plain": [
              "['voip_label_encoders.pkl']"
            ]
          },
          "metadata": {},
          "execution_count": 22
        }
      ]
    },
    {
      "cell_type": "code",
      "source": [
        "import matplotlib.pyplot as plt\n",
        "import seaborn as sns\n",
        "\n",
        "feat_imp = pd.Series(model.feature_importances_, index=features)\n",
        "sns.barplot(x=feat_imp.values, y=feat_imp.index)\n",
        "plt.title(\"VoIP Fraud Feature Importance\")\n",
        "plt.show()\n"
      ],
      "metadata": {
        "colab": {
          "base_uri": "https://localhost:8080/",
          "height": 452
        },
        "id": "3tPMYaiQTH3Z",
        "outputId": "4f4c6cd0-1a5a-4191-87ca-415deb994cf4"
      },
      "execution_count": 23,
      "outputs": [
        {
          "output_type": "display_data",
          "data": {
            "text/plain": [
              "<Figure size 640x480 with 1 Axes>"
            ],
            "image/png": "[encoded data removed]"
          },
          "metadata": {}
        }
      ]
    },
    {
      "cell_type": "code",
      "source": [
        "\n"
      ],
      "metadata": {
        "id": "PNB2RZ9DTLsF"
      },
      "execution_count": 23,
      "outputs": []
    },
    {
      "cell_type": "code",
      "source": [
        "import pandas as pd\n",
        "import joblib\n",
        "from lightgbm import LGBMClassifier\n",
        "from sklearn.preprocessing import LabelEncoder\n",
        "\n",
        "# Load pre-trained models\n",
        "upi_model = joblib.load(\"upi_model.pkl\")     # Save model earlier using joblib.dump(model, \"upi_model.pkl\")\n",
        "voip_model = joblib.load(\"voip_model.pkl\")   # Same for voip\n",
        "\n",
        "# Load label encoders (used during training)\n",
        "upi_encoders = joblib.load(\"upi_label_encoders.pkl\")\n",
        "voip_encoders = joblib.load(\"voip_label_encoders.pkl\")\n",
        "\n",
        "# --- Example Input Simulated ---\n",
        "new_upi_txn = pd.DataFrame([{\n",
        "    \"amount\": 7800.0,\n",
        "    \"txn_type\": \"P2P\",\n",
        "    \"txn_status\": \"SUCCESS\",\n",
        "    \"location\": \"North Elizabeth\",\n",
        "    \"merchant_code\": \"M6002\"\n",
        "}])\n",
        "\n",
        "new_voip_call = pd.DataFrame([{\n",
        "    \"call_duration\": 5,\n",
        "    \"voip_provider\": \"WhatsApp\",\n",
        "    \"geo_info\": \"North Marymouth\",\n",
        "    \"spoof_flag\": 1\n",
        "}])\n",
        "\n",
        "# --- Preprocess UPI input ---\n",
        "for col in ['txn_type', 'txn_status', 'location', 'merchant_code']:\n",
        "    new_upi_txn[col] = upi_encoders[col].transform(new_upi_txn[col].astype(str))\n",
        "\n",
        "# Predict fraud probability\n",
        "upi_score = upi_model.predict_proba(new_upi_txn)[0][1]\n",
        "\n",
        "# --- Preprocess VoIP input ---\n",
        "for col in ['voip_provider', 'geo_info']:\n",
        "    new_voip_call[col] = voip_encoders[col].transform(new_voip_call[col].astype(str))\n",
        "\n",
        "voip_score = voip_model.predict_proba(new_voip_call)[0][1]\n",
        "\n",
        "# --- Final Output ---\n",
        "print(f\"UPI Fraud Score: {upi_score:.2f} {'⚠️ Alert' if upi_score > 0.7 else '✅ Safe'}\")\n",
        "print(f\"VoIP Fraud Score: {voip_score:.2f} {'⚠️ Alert' if voip_score > 0.7 else '✅ Safe'}\")\n"
      ],
      "metadata": {
        "colab": {
          "base_uri": "https://localhost:8080/"
        },
        "id": "tXUanr0X0pJ2",
        "outputId": "a176c8b4-5e82-47a7-ce56-e5bcac860780"
      },
      "execution_count": 26,
      "outputs": [
        {
          "output_type": "stream",
          "name": "stdout",
          "text": [
            "UPI Fraud Score: 0.00 ✅ Safe\n",
            "VoIP Fraud Score: 1.00 ⚠️ Alert\n"
          ]
        }
      ]
    },
    {
      "cell_type": "code",
      "source": [],
      "metadata": {
        "id": "IFqpiCAk8nFm"
      },
      "execution_count": null,
      "outputs": []
    }
  ]
}